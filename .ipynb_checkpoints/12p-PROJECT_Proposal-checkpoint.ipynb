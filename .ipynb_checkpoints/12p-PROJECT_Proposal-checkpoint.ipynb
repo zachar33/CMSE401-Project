{
 "cells": [
  {
   "cell_type": "markdown",
   "metadata": {},
   "source": [
    "# Stock Market Time Series Analysis and Predictive Modeling \n",
    "\n",
    "By Christian Zachariah"
   ]
  },
  {
   "cell_type": "markdown",
   "metadata": {},
   "source": [
    "\n",
    "\n",
    "<img alt=\"Simple Icon of a camera. This is just a place holder for your image\" src=\"https://dezyre.gumlet.io/images/blog/stock-price-prediction-using-machine-learning-project/image_845932577291646715294687.png?w=768&dpr=1.5\" width=\"75%\">\n",
    "\n",
    "Image from: https://www.projectpro.io/article/stock-price-prediction-using-machine-learning-project/571"
   ]
  },
  {
   "cell_type": "markdown",
   "metadata": {},
   "source": [
    "---\n",
    "### Abstract\n",
    "\n",
    "Financial markets are complex systems that are influenced by a number of factors. Because of this, making accurate stock price predictions is a challenging task. Despite this, quant firms such as Jane Street Capital and Two Sigma leverage powerful trading algorithms to allow for highly accurate stock market predictions. \n",
    "\n",
    "In an effort to understand how these quant firms see such unparalleled levels of success, I aim to explore tools such as TensorFlow and Python Numba to make stock price predictions based on historic stock price data. I aim to benchmark the model's accuracy, training time between GPU-accelerated TensorFlow and CPU-based training, inference speed, and computational improvements through Python Numba optimizations.\n",
    "\n",
    "I hope to accelerate operations such as moving averages and standard deviations using Numba, model training time using TensorFlow's GPU capabilities, and prediction computation. A successful outcome from this project would be developing a model with 50% or greater accuracy that outperforms baseline methods. Additionally, a demonstration of significant reduction in computation time for model training and prediction would also be considered a success.\n"
   ]
  },
  {
   "cell_type": "markdown",
   "metadata": {},
   "source": [
    "----\n",
    "### Schedule\n",
    "\n",
    "* Sunday February 9 - Project Proposal Milestone Due\n",
    "* Week of February - Collect historic stock price data\n",
    "* Week of February - Have data cleaned and missing values handled\n",
    "* Week of February - Conduct exploratory data analysis to visualize trends\n",
    "* Sunday February 26 - Project Part 1 Due\n",
    "* Week of March - Implement baseline models (Moving average)\n",
    "* Week of March - Develop ML models (Random Forest)\n",
    "* Week of March - Evaluate model performance (MAE, R^2)\n",
    "* Week of March - Use best-performing model to create simple trading strategy\n",
    "* Week of April - Test strategy on historic data, compare returns to benchmark\n",
    "* Week of April - Document findings, challenges, and room for research and improvement\n",
    "* April 15 - Final Project due"
   ]
  },
  {
   "cell_type": "markdown",
   "metadata": {},
   "source": [
    "---\n",
    "### Part 1 Software Exploration\n",
    "\n",
    "For this project, I aim to explore TensorFlow for machine learning-based time series forecasting, and Python Numba for computational optimization. I chose TensorFlow because it provides an efficient framework for training and deploying machine learning models, which is pivotal to the project since we will be comparing the effectiveness of different models. Since I am relatively new to TensorFlow, I will be using documentation listed in the TensorFlow Core as my starting point for setting up the time series forecasting. I will also be using the Python Numba documentation as a starting point for optimizing my model's computation and training time.\n",
    "\n",
    "This process will consist of setting up a TensorFlow environment with GPU acceleration to improve model training speed, then I will implement feature engineering techniques to ensure that the dataset is structured for efficient model training. Once these steps have been complete, I plan on using the MSU HPCC to run and test my code against large-scale financial datasets. The expected outcome that I hope to see is a fully functional TensorFlow model, an optimized financial feature engineering functions through Python Numba, and a well structured repository with clear documentation outlining my process and the instructions for reproducing my results.\n",
    "\n",
    "\n",
    "TensorFlow Core: https://www.tensorflow.org/tutorials/structured_data/time_series\n",
    "\n",
    "Python Numba Documentation:\n",
    "https://numba.readthedocs.io/en/stable/user/index.html\n",
    "\n"
   ]
  },
  {
   "cell_type": "markdown",
   "metadata": {},
   "source": [
    "---\n",
    "### Part 2 Benchmark and Optimization\n",
    "\n",
    "For benchmarking, I will evaluate model training time, inference speed, and computational efficiency. Specifically, I will be benchmarking CPU vs. GPU training time, with the goal of comparing how much faster TensorFlow can train a model on a GPU vs. a CPU. I will also be comparing the performance of Numba vs. the performance of standard Python functions, with the hope of seeing improvements from using Numba-accelerated feature calculations as opposed to using only Python. And finally, I will be benchmarking parallel processing in TensorFlow, with the goal of investigating whether multi-threading or vectorized computations can further optimize the models.\n",
    "\n",
    "TensorFlow already supports GPU parallelism, and Python Numba allows parallel execution for numerical operations. Using these capabilities, I will optimize the models with the hope of seeing success in several metrics:\n",
    "\n",
    "- Achieving a 4x speedup in feature engineering through Numba optimizations\n",
    "- Reduce model training time on a GPU by a factor of 5x or more compared to CPU-based training\n",
    "- Improve inference speed to allow faster predictions\n",
    "\n",
    "A successful oucome will demonstrate that machine learning models for stock prediction can be significantly optimized through the use of TensorFlow's GPU acceleration and Python Numba's computational efficiency."
   ]
  },
  {
   "cell_type": "markdown",
   "metadata": {},
   "source": [
    "-----\n",
    "### Congratulations, you are done!\n",
    "\n",
    "Make sure your report is added to your Github repository as well as D2L. You should also make sure that you have added the instructors as collaborators to your project repository so that we can access your project. "
   ]
  },
  {
   "cell_type": "markdown",
   "metadata": {},
   "source": [
    "Written by Dr. Dirk Colbry, Michigan State University (Updated by Dr. Nathan Haut in Spring 2025)\n",
    "<a rel=\"license\" href=\"http://creativecommons.org/licenses/by-nc/4.0/\"><img alt=\"Creative Commons License\" style=\"border-width:0\" src=\"https://i.creativecommons.org/l/by-nc/4.0/88x31.png\" /></a><br />This work is licensed under a <a rel=\"license\" href=\"http://creativecommons.org/licenses/by-nc/4.0/\">Creative Commons Attribution-NonCommercial 4.0 International License</a>."
   ]
  },
  {
   "cell_type": "markdown",
   "metadata": {},
   "source": [
    "----"
   ]
  }
 ],
 "metadata": {
  "anaconda-cloud": {},
  "kernelspec": {
   "display_name": "Python 3.11 (default)",
   "language": "python",
   "name": "python3"
  },
  "language_info": {
   "codemirror_mode": {
    "name": "ipython",
    "version": 3
   },
   "file_extension": ".py",
   "mimetype": "text/x-python",
   "name": "python",
   "nbconvert_exporter": "python",
   "pygments_lexer": "ipython3",
   "version": "3.11.11"
  }
 },
 "nbformat": 4,
 "nbformat_minor": 4
}
