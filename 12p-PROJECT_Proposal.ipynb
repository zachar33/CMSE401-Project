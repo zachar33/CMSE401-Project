{
 "cells": [
  {
   "cell_type": "markdown",
   "metadata": {},
   "source": [
    "# Stock Market Time Series Analysis and Predictive Modeling \n",
    "\n",
    "By Christian Zachariah"
   ]
  },
  {
   "cell_type": "markdown",
   "metadata": {},
   "source": [
    "\n",
    "\n",
    "<img alt=\"Simple Icon of a camera. This is just a place holder for your image\" src=\"https://dezyre.gumlet.io/images/blog/stock-price-prediction-using-machine-learning-project/image_845932577291646715294687.png?w=768&dpr=1.5\" width=\"75%\">\n",
    "\n",
    "Image from: https://www.projectpro.io/article/stock-price-prediction-using-machine-learning-project/571"
   ]
  },
  {
   "cell_type": "markdown",
   "metadata": {},
   "source": [
    "---\n",
    "### Abstract\n",
    "\n",
    "Financial markets are complex systems that are influenced by a number of factors. Because of this, making accurate stock price predictions is a challenging task. Despite this, quant firms such as Jane Street Capital and Two Sigma leverage powerful trading algorithms to allow for highly accurate stock market predictions. \n",
    "\n",
    "In an effort to understand how these quant firms see such unparalleled levels of success, I aim to explore tools such as TensorFlow and Python Numba to make stock price predictions based on historic stock price data. I aim to benchmark the model's accuracy, training time between GPU-accelerated TensorFlow and CPU-based training, inference speed, and computational improvements through Python Numba optimizations.\n",
    "\n",
    "I hope to accelerate operations such as moving averages and standard deviations using Numba, model training time using TensorFlow's GPU capabilities, and prediction computation. A successful outcome from this project would be developing a model with 50% or greater accuracy that outperforms baseline methods. Additionally, a demonstration of significant reduction in computation time for model training and prediction would also be considered a success.\n"
   ]
  },
  {
   "cell_type": "markdown",
   "metadata": {},
   "source": [
    "----\n",
    "### Schedule\n",
    "\n",
    "* Sunday February 9 - Project Proposal Milestone Due\n",
    "* Week of February - Collect historic stock price data\n",
    "* Week of February - Have data cleaned and missing values handled\n",
    "* Week of February - Conduct exploratory data analysis to visualize trends\n",
    "* Sunday February 26 - Project Part 1 Due\n",
    "* Week of March - Implement baseline models (Moving average)\n",
    "* Week of March - Develop ML models (Random Forest)\n",
    "* Week of March - Evaluate model performance (MAE, R^2)\n",
    "* Week of March - Use best-performing model to create simple trading strategy\n",
    "* Week of April - Test strategy on historic data, compare returns to benchmark\n",
    "* Week of April - Document findings, challenges, and room for research and improvement\n",
    "* April 15 - Final Project due"
   ]
  },
  {
   "cell_type": "markdown",
   "metadata": {},
   "source": [
    "---\n",
    "### Part 1 Software Exploration\n",
    "\n",
    "For this project, I aim to explore TensorFlow for machine learning-based time series forecasting, and Python Numba for computational optimization. I chose TensorFlow because it provides an efficient framework for training and deploying machine learning models, which is pivotal to the project since we will be comparing the effectiveness of different models. Since I am relatively new to TensorFlow, I will be using documentation listed in the TensorFlow Core as my starting point for setting up the time series forecasting. I will also be using the Python Numba documentation as a starting point for optimizing my model's computation and training time.\n",
    "\n",
    "This process will consist of setting up a TensorFlow environment with GPU acceleration to improve model training speed, then I will implement feature engineering techniques to ensure that the dataset is structured for efficient model training. Once these steps have been complete, I plan on using the MSU HPCC to run and test my code against large-scale financial datasets. The expected outcome that I hope to see is a fully functional TensorFlow model, an optimized financial feature engineering functions through Python Numba, and a well structured repository with clear documentation outlining my process and the instructions for reproducing my results.\n",
    "\n",
    "\n",
    "TensorFlow Core: https://www.tensorflow.org/tutorials/structured_data/time_series\n",
    "\n",
    "Python Numba Documentation:\n",
    "https://numba.readthedocs.io/en/stable/user/index.html\n",
    "\n"
   ]
  },
  {
   "cell_type": "markdown",
   "metadata": {},
   "source": [
    "---\n",
    "### Part 2 Benchmark and Optimization\n",
    "\n",
    "For benchmarking, I will evaluate model training time, inference speed, and computational efficiency. Specifically, I will be benchmarking CPU vs. GPU training time, with the goal of comparing how much faster TensorFlow can train a model on a GPU vs. a CPU. I will also be comparing the performance of Numba vs. the performance of standard Python functions, with the hope of seeing improvements from using Numba-accelerated feature calculations as opposed to using only Python. And finally, I will be benchmarking parallel processing in TensorFlow, with the goal of investigating whether multi-threading or vectorized computations can further optimize the models.\n",
    "\n",
    "TensorFlow already supports GPU parallelism, and Python Numba allows parallel execution for numerical operations. Using these capabilities, I will optimize the models with the hope of seeing success in several metrics:\n",
    "\n",
    "- Achieving a 4x speedup in feature engineering through Numba optimizations\n",
    "- Reduce model training time on a GPU by a factor of 5x or more compared to CPU-based training\n",
    "- Improve inference speed to allow faster predictions\n",
    "\n",
    "A successful oucome will demonstrate that machine learning models for stock prediction can be significantly optimized through the use of TensorFlow's GPU acceleration and Python Numba's computational efficiency."
   ]
  },
  {
   "cell_type": "markdown",
   "metadata": {},
   "source": [
    "---- END TEMPLATE ----"
   ]
  },
  {
   "cell_type": "markdown",
   "metadata": {},
   "source": [
    "---\n",
    "<a name=-Setting-up-your-GIT-repository></a>\n",
    "# 3.  Setting up your GIT repository\n",
    "\n",
    "\n",
    "To submit your proposal you are going to create a project folder, commit your proposal to the folder and share your git repository with your instructor.  The following videos from the  [Getting to know git (Tutorial)](https://msu-cmse-courses.github.io/cmse401-S23-student/0000--Jupyter-Getting-Started-Guide.html) and may be helpful setting up your repository."
   ]
  },
  {
   "cell_type": "code",
   "execution_count": 1,
   "metadata": {},
   "outputs": [
    {
     "data": {
      "image/jpeg": "[encoded data removed]",
      "text/html": [
       "\n",
       "        <iframe\n",
       "            width=\"640\"\n",
       "            height=\"360\"\n",
       "            src=\"https://www.youtube.com/embed/IAAv4DjYYUA?cc_load_policy=True\"\n",
       "            frameborder=\"0\"\n",
       "            allowfullscreen\n",
       "            \n",
       "        ></iframe>\n",
       "        "
      ],
      "text/plain": [
       "<IPython.lib.display.YouTubeVideo at 0x7f92f21696d0>"
      ]
     },
     "execution_count": 1,
     "metadata": {},
     "output_type": "execute_result"
    }
   ],
   "source": [
    "# Git init intorduction https://www.youtube.com/playlist?list=PLqPfbT7gwVP_AlE6HeDQUJsG4nUbGyeh3\n",
    "from IPython.display import YouTubeVideo\n",
    "YouTubeVideo(\"IAAv4DjYYUA\",width=640,height=360, cc_load_policy=True)"
   ]
  },
  {
   "cell_type": "markdown",
   "metadata": {},
   "source": [
    "The following are instructions for how to use the more general Github:"
   ]
  },
  {
   "cell_type": "code",
   "execution_count": null,
   "metadata": {},
   "outputs": [],
   "source": [
    "#Inicializing Repository using Github\n",
    "from IPython.display import YouTubeVideo\n",
    "YouTubeVideo(\"dpeHlFm8SYU\",width=640,height=360, cc_load_policy=True)"
   ]
  },
  {
   "cell_type": "markdown",
   "metadata": {},
   "source": [
    "As you update and change the files in your repository you will need to push those changes to github.  The following instructions walk you though this process:"
   ]
  },
  {
   "cell_type": "code",
   "execution_count": null,
   "metadata": {},
   "outputs": [],
   "source": [
    "#Git Add Committ https://www.youtube.com/playlist?list=PLqPfbT7gwVP_AlE6HeDQUJsG4nUbGyeh3\n",
    "\n",
    "from IPython.display import YouTubeVideo\n",
    "YouTubeVideo(\"GTM-h5xX2Lk\",width=640,height=360, cc_load_policy=True)"
   ]
  },
  {
   "cell_type": "markdown",
   "metadata": {},
   "source": [
    "----\n",
    "\n",
    "## What not to include (building a .gitignore file)\n",
    "\n",
    "First thing we want to teach is is that not everything should go into a git repository.  i.e. we do not want to bloat our repository with unwanted files.  The git repository works best with Text files that represent \"source\" code and not compiled or generated code. Here are some basic guidelines of what not to include:\n",
    "\n",
    "\n",
    "* ```.ipynb_checkpoint``` - These folders are generated when you run jupyter notebooks.  They are \"temporary\" compiled folders that will change each time you run your notebook and should not be included in your repository. \n",
    "* ```__pychache__``` - Similar to .ipynb_checkpoint folders these folders are often generated when running python scripts and should not be included in your repository. \n",
    "* **_Other \"Temporary\" files_** - Temporary files are generated by all types of software and often start with a special characters such as the dot (.) or the tilde (~).  For example many text editors generate temporary files to save a document in case of a program crash.  Do not include temporary files in your repository. \n",
    "* **_Compiled Code_** - Programs such as C and FORTRAN must compile their code to an executable in order to run on your computer. These compiled codes are not editable and should be left out of your repository.  Instead it is better to include instructions for compiling the source code as part of your repository.  \n",
    "* **_Program Output_** - Do not include any program output in your repository (unless for very specific reasons such as documentation, testing, or figures in your final report).  Assume that any output that can be generated by the source code should not be included with the source code (it is redundant). \n",
    "\n",
    "A good rule of thumb is that if you did not generate the file and/or do not know what it is you probably do NOT want to include it in your repository. \n",
    "\n",
    "**_WARNING_** do not blindly add all files to your repository with the * (star) syntax.  This is bad practice. For example do NOT do the following:\n",
    "\n",
    "    git add * #THIS IS BAD!!!!\n",
    "\n",
    "### Other files to avoid\n",
    "\n",
    "In addition to the above files it is good to avoid any type of \"Binary\" file (with a few exceptions).  As stated early, git works best with text files so it can easily track changes. Some example binary files to avoid include:\n",
    "\n",
    "- **_Large Data files_**  Although it is good to include a few example inputs to your software, avoid using entire datasets.  It is best to store these files someplace else.  \n",
    "- **_Non-Text formats_** such as Word, Excel or PowerPoint documents should be avoided.  These tend to change each time they are opened even if the core text does not change. it is better to use an alternative text example. \n",
    "\n",
    "\n",
    "**_Note:_** one exception to the above rules are image files (ex jpg or png) that are used to help markdown or in the documentation.  It is typically okay to include these since they tend to get included only once and do not change much as the project evolves. \n",
    "\n",
    "The ```.gitignore``` (typically read \"dot git ignore\") is aa text file that contains a list of regular expressions (we will learn more about these later) that specify names of files we do not want to include in a git repository. \n",
    "\n",
    "\n",
    "### .gitignore file\n",
    "\n",
    "The ```.gitignore``` (read \"dot git ignore\") file is used to help keep unwanted files out of your project.  Each line ```.gitignore``` file are filenames you want git to ignore.  For example, based on what we said above, a  good place to start on your ```.gitignore``` file would be the following two lines:\n",
    "```\n",
    ".ipynbcheckpoint\n",
    "__pychache__\n",
    "```\n",
    "\n",
    "What should go into a .gitignore depends a lot on the type of project.  However, you don't need to invent these from scratch. For example, you could just copy the .gitignore file from the course repository or find one on the internet.  If you are using github I think it can also automatically create a .gitignore file for you if you specify your project as a python project. "
   ]
  },
  {
   "cell_type": "code",
   "execution_count": null,
   "metadata": {},
   "outputs": [],
   "source": [
    "#Hidden files https://www.youtube.com/playlist?list=PLqPfbT7gwVP_AlE6HeDQUJsG4nUbGyeh3\n",
    "\n",
    "from IPython.display import YouTubeVideo\n",
    "YouTubeVideo(\"kzI-mPSY8y4\",width=640,height=360, cc_load_policy=True)"
   ]
  },
  {
   "cell_type": "markdown",
   "metadata": {},
   "source": [
    "---\n",
    "\n",
    "## Avoid Spaces in file names\n",
    "\n",
    "When you name all of the files and folders inside of a repository, it is important that your names **_DO NOT include spaces_**.  Although all modern computer's have ways to accept names with spaces do not use them.  Instead use underscores (\\_) or ```CamleCase``` (No spaces and capital letters at the beginning of each word in the name).  Avoiding spaces in your names will **_ALWAYS_** save time in the long run.  "
   ]
  },
  {
   "cell_type": "markdown",
   "metadata": {},
   "source": [
    "----\n",
    "\n",
    "## Always Use Relative Paths\n",
    "\n",
    "In your code there are two basic ways to determine the location of a folder inside your computer; Relative Paths and Absolute Paths.  A relative path is a path starting from your current directory and an absolute path is is a path starting from your computer's \"root\" directory.  \n",
    "\n",
    "- Relative paths typically start with a single dot (.), representing the currecnt directory, or two double dots (..) representing the current directories parent folder.\n",
    "- Absolute paths typically start at the global root directory (/) on a Linux or Mac machine or with a drive label (ex C:) on a windows machine.  \n",
    "\n",
    "**_ALWAYS_** use relative paths in your git repository.  This ensures that others will be able to use your software if they download it onto their computer.  For example:\n",
    "\n",
    "    Good: ./data/  or ../data/ is a relative path to a child directory or sibling directory called data. \n",
    "    Bad (not acceptable): C:/research/data or /mnt/home/data are absolute paths to a data directory\n",
    " \n",
    " "
   ]
  },
  {
   "cell_type": "markdown",
   "metadata": {},
   "source": [
    "----\n",
    "\n",
    "## Jupyter notebook files in git repositories\n",
    "\n",
    "Turns out that Jupyter notebook files and git repositories work very poorly together.  Jupyter notebook files are a unique combination of source and program generated information.  So, everytime you run a jupyter file it can add output cells which make git think you you changed something important. In many cases it is just a few numbers or some output text.  When you run the ```git status``` command it always looks like jupyter notebook files have changed even when they have not changed. \n",
    "\n",
    "A good rule of thumb is to clear all of the output files before committing any changes to jupyter notebook files.  \n",
    "\n",
    "- Open the jupyter notebook file\n",
    "- Select \"Reset Kernel and clear output\" from the menu\n",
    "- Save the notebook file.\n",
    "- Do your \"git add\" and \"git commit\" commands\n",
    "\n",
    "The following video goes though why we have to treat jupyter notebooks this way:\n",
    "\n",
    "[Direct Link](https://www.youtube.com/embed/79hW_TzLos8)"
   ]
  },
  {
   "cell_type": "code",
   "execution_count": null,
   "metadata": {},
   "outputs": [],
   "source": [
    "# Jupyter vs. Git -- https://www.youtube.com/playlist?list=PLqPfbT7gwVP_AlE6HeDQUJsG4nUbGyeh3\n",
    "from IPython.display import YouTubeVideo\n",
    "YouTubeVideo(\"79hW_TzLos8\",width=640,height=360, cc_load_policy=True)"
   ]
  },
  {
   "cell_type": "markdown",
   "metadata": {},
   "source": [
    "\n",
    "\n",
    "---\n",
    "<a name=-Turning-in-your-Project></a>\n",
    "# 4.  Turning in your Project\n",
    "\n",
    "\n",
    "In order to turn in your GIT repository you just need to give the instructors and classmates the permissions to clone the repository and provide the full git command. Please use the following form to submit this information.\n",
    "\n",
    "Or if you prefer, you can use the [Direct Link](https://forms.microsoft.com/Pages/ResponsePage.aspx?id=MHEXIi9k2UGSEXQjetVofbihPqVa-WtNjOGYhCwpOgRUMlhQQlY0WE04SzUyRVhWR1NDRFRZSzdOMS4u)"
   ]
  },
  {
   "cell_type": "code",
   "execution_count": null,
   "metadata": {},
   "outputs": [],
   "source": [
    "from IPython.display import HTML\n",
    "HTML(\n",
    "\"\"\"\n",
    "<iframe \n",
    "\tsrc=\"https://forms.microsoft.com/Pages/ResponsePage.aspx?id=MHEXIi9k2UGSEXQjetVofbihPqVa-WtNjOGYhCwpOgRUMlhQQlY0WE04SzUyRVhWR1NDRFRZSzdOMS4u\" \n",
    "\twidth=\"100%\" \n",
    "\theight=\"1100px\" \n",
    "\tframeborder=\"0\" \n",
    "\tmarginheight=\"0\" \n",
    "\tmarginwidth=\"0\">\n",
    "\tLoading...\n",
    "</iframe>\n",
    "\"\"\"\n",
    ")"
   ]
  },
  {
   "cell_type": "markdown",
   "metadata": {},
   "source": [
    "---\n",
    "\n",
    "# 4. Rubric\n",
    "\n",
    "Below is the grading rubric that will be used to assess your project proposals.   Please use the following as a guide when preparing your proposal:\n",
    "\n",
    "```\n",
    "(50 points) Proposal\n",
    "    - (5 points) Is there a project title?\n",
    "    - (5 points) Is there a motivating picture included and referenced?\n",
    "    - (10 points) Is the abstract well written and easy to understand?\n",
    "    - (5 points) Are there due dates and milestones in the schedule?\n",
    "    - (10 points) Are the goals for Part1 clear from the proposal, including links and references?\n",
    "    - (10 points) Are the goals for Part2 clear from the proposal, including links and references?\n",
    "    - (5 points) Is the proposal written in ipynb or md file? \n",
    "\n",
    "(50 points) Correctly setting up your git repository\n",
    "    - (10 points) Was everything turned in on time?\n",
    "    - (10 points) Is there a gitignore file (does it work)?\n",
    "    - (10 points) Are the permissions to the git repository set up correctly?\n",
    "    - (5 points) Does the project use correct Filenames?\n",
    "    - (5 points) Does the project have any temporary or hidden files that should not be included?\n",
    "    - (10 points) Were all directions followed?\n",
    "    \n",
    "100 points total\n",
    "```\n"
   ]
  },
  {
   "cell_type": "markdown",
   "metadata": {},
   "source": [
    "-----\n",
    "### Congratulations, you are done!\n",
    "\n",
    "Make sure your report is added to your Github repository as well as D2L. You should also make sure that you have added the instructors as collaborators to your project repository so that we can access your project. "
   ]
  },
  {
   "cell_type": "markdown",
   "metadata": {},
   "source": [
    "Written by Dr. Dirk Colbry, Michigan State University (Updated by Dr. Nathan Haut in Spring 2025)\n",
    "<a rel=\"license\" href=\"http://creativecommons.org/licenses/by-nc/4.0/\"><img alt=\"Creative Commons License\" style=\"border-width:0\" src=\"https://i.creativecommons.org/l/by-nc/4.0/88x31.png\" /></a><br />This work is licensed under a <a rel=\"license\" href=\"http://creativecommons.org/licenses/by-nc/4.0/\">Creative Commons Attribution-NonCommercial 4.0 International License</a>."
   ]
  },
  {
   "cell_type": "markdown",
   "metadata": {},
   "source": [
    "----"
   ]
  }
 ],
 "metadata": {
  "anaconda-cloud": {},
  "kernelspec": {
   "display_name": "Python 3.11 (default)",
   "language": "python",
   "name": "python3"
  },
  "language_info": {
   "codemirror_mode": {
    "name": "ipython",
    "version": 3
   },
   "file_extension": ".py",
   "mimetype": "text/x-python",
   "name": "python",
   "nbconvert_exporter": "python",
   "pygments_lexer": "ipython3",
   "version": "3.11.11"
  }
 },
 "nbformat": 4,
 "nbformat_minor": 4
}
